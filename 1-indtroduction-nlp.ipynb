{
 "cells": [
  {
   "cell_type": "markdown",
   "metadata": {},
   "source": [
    "## Syllabus"
   ]
  },
  {
   "cell_type": "markdown",
   "metadata": {},
   "source": [
    "Topics Covered:\n",
    "\n",
    "1\\. What is NLP?\n",
    "  - A changing field\n",
    "  - Resources\n",
    "  - Tools\n",
    "  - Python libraries\n",
    "  - Example applications\n",
    "  - Ethics issues\n",
    "\n",
    "2\\. Topic Modeling with NMF and SVD\n",
    "  - Stop words, stemming, & lemmatization\n",
    "  - Term-document matrix\n",
    "  - Topic Frequency-Inverse Document Frequency (TF-IDF)\n",
    "  - Singular Value Decomposition (SVD)\n",
    "  - Non-negative Matrix Factorization (NMF)\n",
    "  - Truncated SVD, Randomized SVD\n",
    "\n",
    "3\\. Sentiment classification with Naive Bayes, Logistic regression, and ngrams\n",
    "  - Sparse matrix storage\n",
    "  - Counters\n",
    "  - the fastai library\n",
    "  - Naive Bayes\n",
    "  - Logistic regression\n",
    "  - Ngrams\n",
    "  - Logistic regression with Naive Bayes features, with trigrams\n",
    "  \n",
    "4\\. Regex (and re-visiting tokenization)\n",
    "\n",
    "5\\. Language modeling & sentiment classification with deep learning\n",
    "  - Language model\n",
    "  - Transfer learning\n",
    "  - Sentiment classification\n",
    "\n",
    "6\\. Translation with RNNs\n",
    "  - Review Embeddings\n",
    "  - Bleu metric\n",
    "  - Teacher Forcing\n",
    "  - Bidirectional\n",
    "  - Attention\n",
    "\n"
   ]
  },
  {
   "cell_type": "markdown",
   "metadata": {},
   "source": [
    "# 1. What is NLP?"
   ]
  },
  {
   "cell_type": "markdown",
   "metadata": {},
   "source": [
    "## What can you do with NLP?"
   ]
  },
  {
   "cell_type": "markdown",
   "metadata": {},
   "source": [
    "NLP is a broad field, encompassing a variety of tasks, including:\n",
    "\n",
    "- Part-of-speech tagging: identify if each word is a noun, verb, adjective, etc.)\n",
    "- Named entity recognition NER): identify person names, organizations, locations, medical codes, time expressions, quantities, monetary values, etc)\n",
    "- Question answering\n",
    "- Speech recognition\n",
    "- Text-to-speech and Speech-to-text\n",
    "- Topic modeling\n",
    "- Sentiment classification\n",
    "- Language modeling\n",
    "- Translation"
   ]
  },
  {
   "cell_type": "markdown",
   "metadata": {},
   "source": [
    "Many techniques from NLP are useful in a variety of places, for instance, you may have text within your tabular data."
   ]
  },
  {
   "cell_type": "markdown",
   "metadata": {},
   "source": [
    "## This course"
   ]
  },
  {
   "cell_type": "markdown",
   "metadata": {},
   "source": [
    "In this course, we will cover these applications:\n",
    "- Topic modeling\n",
    "- Sentiment classification\n",
    "- Language modeling"
   ]
  },
  {
   "cell_type": "markdown",
   "metadata": {},
   "source": [
    "## A changing field"
   ]
  },
  {
   "cell_type": "markdown",
   "metadata": {},
   "source": [
    "Historically, NLP originally relied on hard-coded rules about a language.  In the 1990s, there was a change towards using statistical & machine learning approaches, but the complexity of natural language meant that simple statistical approaches were often not state-of-the-art. We are now currently in the midst of a major change in the move towards neural networks.  Because deep learning allows for much greater complexity, it is now achieving state-of-the-art for many things.\n",
    "\n",
    "This doesn't have to be binary: there is room to combine deep learning with rules-based approaches."
   ]
  },
  {
   "cell_type": "markdown",
   "metadata": {
    "heading_collapsed": true
   },
   "source": [
    "### A field in flux"
   ]
  },
  {
   "cell_type": "markdown",
   "metadata": {
    "hidden": true
   },
   "source": [
    "The field is still very much in a state of flux, with best practices changing."
   ]
  },
  {
   "cell_type": "markdown",
   "metadata": {
    "hidden": true
   },
   "source": [
    "<img src=\"images/skomoroch.png\" alt=\"\" style=\"width: 60%\"/>"
   ]
  },
  {
   "cell_type": "markdown",
   "metadata": {},
   "source": [
    "## Resources"
   ]
  },
  {
   "cell_type": "markdown",
   "metadata": {},
   "source": [
    "**Books**\n",
    "\n",
    "We won't be using a text book, although here are a few helpful references:\n",
    "\n",
    "- [**Speech and Language Processing**](https://web.stanford.edu/~jurafsky/slp3/), by Dan Jurafsky and James H. Martin (free PDF)\n",
    "\n",
    "- [**Introduction to Information Retrieval**](https://nlp.stanford.edu/IR-book/html/htmledition/irbook.html) by By Christopher D. Manning, Prabhakar Raghavan, and Hinrich Schütze (free online)\n",
    "\n",
    "- [**Natural Language Processing with PyTorch**](https://learning.oreilly.com/library/view/natural-language-processing/9781491978221/) by Brian McMahan and Delip Rao (need to purchase or have O'Reilly Safari account) \n",
    "\n",
    "**Blogs**\n",
    "\n",
    "Good NLP-related blogs:\n",
    "- [Sebastian Ruder](http://ruder.io/)\n",
    "- [Joyce Xu](https://medium.com/@joycex99)\n",
    "- [Jay Alammar](https://jalammar.github.io/)\n",
    "- [Stephen Merity](https://smerity.com/articles/articles.html)\n",
    "- [Rachael Tatman](https://towardsdatascience.com/evaluating-text-output-in-nlp-bleu-at-your-own-risk-e8609665a213)"
   ]
  },
  {
   "cell_type": "markdown",
   "metadata": {},
   "source": [
    "## NLP Tools"
   ]
  },
  {
   "cell_type": "markdown",
   "metadata": {},
   "source": [
    "- Regex (example: find all phone numbers: 123-456-7890, (123) 456-7890, etc.)\n",
    "- Tokenization: splitting your text into meaningful units (has a different meaning in security)\n",
    "- Word embeddings\n",
    "- Linear algebra/matrix decomposition\n",
    "- Neural nets\n",
    "- Hidden Markov Models\n",
    "- Parse trees\n",
    "\n",
    "Example from http://damir.cavar.me/charty/python/: \"She killed the man with the tie.\"\n",
    "\n",
    "Was the man wearing the tie?\n",
    "<img src=\"images/parse2.png\" alt=\"\" style=\"width: 60%\"/>\n",
    "\n",
    "Or was the tie the murder weapon?\n",
    "<img src=\"images/parse1.png\" alt=\"\" style=\"width: 60%\"/>"
   ]
  },
  {
   "cell_type": "markdown",
   "metadata": {},
   "source": [
    "## Python Libraries"
   ]
  },
  {
   "cell_type": "markdown",
   "metadata": {},
   "source": [
    "- [nltk](https://www.nltk.org/): first released in 2001, very broad NLP library\n",
    "- [spaCy](https://spacy.io/): creates parse trees, excellent tokenizer, opinionated\n",
    "- [gensim](https://radimrehurek.com/gensim/): topic modeling and similarity detection\n",
    "\n",
    "specialized tools:\n",
    "- [PyText](https://pytext-pytext.readthedocs-hosted.com/en/latest/)\n",
    "- [fastText](https://fasttext.cc/) has library of embeddings\n",
    "\n",
    "general ML/DL libraries with text features:\n",
    "- [sklearn](https://scikit-learn.org/stable/): general purpose Python ML library\n",
    "- [fastai](https://docs.fast.ai/): fast & accurate neural nets using modern best practices, on top of PyTorch"
   ]
  },
  {
   "cell_type": "markdown",
   "metadata": {},
   "source": [
    "### Bias"
   ]
  },
  {
   "cell_type": "markdown",
   "metadata": {},
   "source": [
    "<img src=\"images/google-translate.png\" alt=\"\" style=\"width: 65%\"/>"
   ]
  },
  {
   "cell_type": "markdown",
   "metadata": {},
   "source": [
    "- [How Vector Space Mathematics Reveals the Hidden Sexism in Language](https://www.technologyreview.com/s/602025/how-vector-space-mathematics-reveals-the-hidden-sexism-in-language/)\n",
    "- [Semantics derived automatically from language corpora contain human-like biases](https://arxiv.org/abs/1608.07187)\n",
    "- [Lipstick on a Pig: Debiasing Methods Cover up Systematic Gender Biases in Word Embeddings But do not Remove Them](https://arxiv.org/abs/1903.03862)\n",
    "- [Word Embeddings, Bias in ML, Why You Don't Like Math, & Why AI Needs You](https://www.youtube.com/watch?v=25nC0n9ERq4&list=PLtmWHNX-gukLQlMvtRJ19s7-8MrnRV6h6&index=9)"
   ]
  },
  {
   "cell_type": "markdown",
   "metadata": {},
   "source": [
    "<img src=\"images/rigler-tweet.png\" alt=\"\" style=\"width: 65%\"/>"
   ]
  },
  {
   "cell_type": "markdown",
   "metadata": {},
   "source": [
    "### Fakery"
   ]
  },
  {
   "cell_type": "markdown",
   "metadata": {},
   "source": [
    "<img src=\"images/gpt2-howard.png\" alt=\"\" style=\"width: 65%\"/>\n",
    "\n",
    "[OpenAI's New Multitalented AI writes, translates, and slanders](https://www.theverge.com/2019/2/14/18224704/ai-machine-learning-language-models-read-write-openai-gpt2)"
   ]
  },
  {
   "cell_type": "markdown",
   "metadata": {},
   "source": [
    "[He Predicted The 2016 Fake News Crisis. Now He's Worried About An Information Apocalypse.](https://www.buzzfeednews.com/article/charliewarzel/the-terrifying-future-of-fake-news) (interview with Avi Ovadya)\n",
    "\n",
    "- Generate an audio or video clip of a world leader declaring war. “It doesn’t have to be perfect — just good enough to make the enemy think something happened that it provokes a knee-jerk and reckless response of retaliation.”\n",
    "\n",
    "- A combination of political botnets and astroturfing, where political movements are manipulated by fake grassroots campaigns to effectively compete with real humans for legislator and regulator attention because it will be too difficult to tell the difference.\n",
    "\n",
    "- Imagine if every bit of spam you receive looked identical to emails from real people you knew (with appropriate context, tone, etc)."
   ]
  },
  {
   "cell_type": "markdown",
   "metadata": {},
   "source": [
    "<img src=\"images/etzioni-fraud.png\" alt=\"\" style=\"width: 65%\"/>\n",
    "\n",
    "[How Will We Prevent AI-Based Forgery?](https://hbr.org/2019/03/how-will-we-prevent-ai-based-forgery): \"We need to promulgate the norm that any item that isn’t signed is potentially forged.\" "
   ]
  }
 ],
 "metadata": {
  "kernelspec": {
   "display_name": "Python 3",
   "language": "python",
   "name": "python3"
  },
  "language_info": {
   "codemirror_mode": {
    "name": "ipython",
    "version": 3
   },
   "file_extension": ".py",
   "mimetype": "text/x-python",
   "name": "python",
   "nbconvert_exporter": "python",
   "pygments_lexer": "ipython3",
   "version": "3.7.3"
  }
 },
 "nbformat": 4,
 "nbformat_minor": 2
}
